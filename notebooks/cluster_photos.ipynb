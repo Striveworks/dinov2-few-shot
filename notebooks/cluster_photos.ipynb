{
 "cells": [
  {
   "cell_type": "markdown",
   "id": "25e15eb0-da64-4460-b368-0a9e17a40ee3",
   "metadata": {},
   "source": [
    "# Cluster Photos\n",
    "\n",
    "This notebook leverages learned features and out-of-the-box clustering techniques to cluster photos with the intent of finding a representative sample.\n",
    "\n",
    "## Instantiate Autoencoder\n",
    "\n",
    "Let's create our autoencoder and do preliminary work to process our images."
   ]
  },
  {
   "cell_type": "code",
   "execution_count": 1,
   "id": "f76bd7b5-aab5-4023-b861-1cc9b4b805b4",
   "metadata": {},
   "outputs": [],
   "source": [
    "from photo_encode.llamaindex import LLaMAIndexImageEncoder"
   ]
  }
 ],
 "metadata": {
  "kernelspec": {
   "display_name": "photography-analysis-env",
   "language": "python",
   "name": "photography-analysis-env"
  },
  "language_info": {
   "codemirror_mode": {
    "name": "ipython",
    "version": 3
   },
   "file_extension": ".py",
   "mimetype": "text/x-python",
   "name": "python",
   "nbconvert_exporter": "python",
   "pygments_lexer": "ipython3",
   "version": "3.10.12"
  }
 },
 "nbformat": 4,
 "nbformat_minor": 5
}
