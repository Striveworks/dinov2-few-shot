{
 "cells": [
  {
   "cell_type": "markdown",
   "id": "25e15eb0-da64-4460-b368-0a9e17a40ee3",
   "metadata": {},
   "source": [
    "# Cluster Photos\n",
    "\n",
    "This notebook leverages learned features and out-of-the-box clustering techniques to cluster photos with the intent of finding a representative sample.\n",
    "\n",
    "## Instantiate Autoencoder\n",
    "\n",
    "Let's create our autoencoder and do preliminary work to process our images."
   ]
  },
  {
   "cell_type": "code",
   "execution_count": 16,
   "id": "f76bd7b5-aab5-4023-b861-1cc9b4b805b4",
   "metadata": {},
   "outputs": [],
   "source": [
    "import torch\n",
    "\n",
    "from photo_encode.encoder import FaissIndexImageEncoder\n",
    "from transformers import AutoImageProcessor, AutoModel, ViTImageProcessor, ViTForImageClassification\n",
    "\n",
    "device = torch.device(\"cuda\" if torch.cuda.is_available() else \"cpu\")\n",
    "\n",
    "# First embedding model: dinov2\n",
    "processor_dino = AutoImageProcessor.from_pretrained('facebook/dinov2-large')\n",
    "processor_kwargs_dino = {\n",
    "    \"return_tensors\" : \"pt\"\n",
    "}\n",
    "dinov2_hf = AutoModel.from_pretrained('facebook/dinov2-large')\n",
    "dinov2 = FaissIndexImageEncoder(\n",
    "    dinov2_hf, \n",
    "    index_file_out=\"./data/test_photos_dinov2.db\", \n",
    ").eval().to(device)\n",
    "\n",
    "# Second embedding model: ViT\n",
    "processor_vit = ViTImageProcessor.from_pretrained('google/vit-base-patch16-224')\n",
    "processor_kwargs_vit = {\n",
    "    \"return_tensors\" : \"pt\"\n",
    "}\n",
    "vit_hf = ViTForImageClassification.from_pretrained('google/vit-base-patch16-224')\n",
    "vit = FaissIndexImageEncoder(vit_hf, index_file_out=\"./data/test_photos_vit.db\").eval().to(device)"
   ]
  },
  {
   "cell_type": "markdown",
   "id": "fd62e234-929d-4ac3-acef-a537a1529bae",
   "metadata": {},
   "source": [
    "## Create the Embeddings\n",
    "\n",
    "Loop over the data with different models and aggregration functions to create our embeddings."
   ]
  },
  {
   "cell_type": "code",
   "execution_count": 20,
   "id": "8e6f93e0-92bb-45e0-ba28-a1992fe64914",
   "metadata": {},
   "outputs": [
    {
     "name": "stderr",
     "output_type": "stream",
     "text": [
      "85it [04:45,  3.36s/it]\n",
      "85it [03:32,  2.50s/it]\n"
     ]
    }
   ],
   "source": [
    "import torch\n",
    "\n",
    "from tqdm import tqdm\n",
    "\n",
    "from photo_encode.utils import image_batch_from_folder_generator\n",
    "from torchvision.transforms import Resize, Compose\n",
    "\n",
    "# Directory with photos\n",
    "photo_directory = \"./data/test_photos\"\n",
    "\n",
    "# Batch size\n",
    "batch_size = 8\n",
    "\n",
    "# Mean aggregation\n",
    "def dinov2_mean_aggregate(x):\n",
    "    embeddings = x.last_hidden_state\n",
    "    return embeddings.mean(axis=1)\n",
    "\n",
    "def vit_mean_aggregate(x):\n",
    "    embeddings = x.logits\n",
    "    return embeddings.mean(axis=1)\n",
    "    \n",
    "# Walk over the photo directory\n",
    "with torch.no_grad():\n",
    "    # For dinov2, we need to override the stack function as the batch collator\n",
    "    for x, files in tqdm(\n",
    "        image_batch_from_folder_generator(photo_directory, processor_dino, processor_kwargs_dino, batch_size, collate=lambda x: x)\n",
    "    ):\n",
    "        pixel_values = torch.stack(tuple([y[\"pixel_values\"][0] for y in x]))\n",
    "        dino_batch = {\n",
    "            \"pixel_values\" : pixel_values.to(device)\n",
    "        }\n",
    "        embeddings = dinov2(dino_batch, files, dinov2_mean_aggregate)\n",
    "\n",
    "    # For ViT\n",
    "    for x, files in tqdm(\n",
    "        image_batch_from_folder_generator(photo_directory, processor_vit, processor_kwargs_vit, batch_size, collate=lambda x: x)\n",
    "    ):\n",
    "        pixel_values = torch.stack(tuple([y[\"pixel_values\"][0] for y in x]))\n",
    "        vit_batch = {\n",
    "            \"pixel_values\" : pixel_values.to(device)\n",
    "        }\n",
    "        embeddings = vit(vit_batch, files, vit_mean_aggregate)\n",
    "\n"
   ]
  },
  {
   "cell_type": "markdown",
   "id": "0e12390a-43d7-4adb-a540-e8dc74889da6",
   "metadata": {},
   "source": [
    "## Create Clusters\n",
    "\n",
    "Loop over a range of cluster numbers and compute metrics for quality."
   ]
  },
  {
   "cell_type": "code",
   "execution_count": null,
   "id": "854b4844-d890-4fac-950b-59a8c7093bb0",
   "metadata": {},
   "outputs": [],
   "source": [
    "from sklearn.cluster import KMeans\n",
    "\n",
    "dinov2_mean_embeddings = dinov2.current_embeddings.detach().cpu().numpy()\n",
    "vit_mean_embeddings = vit.current_embeddings.detach().cpu().numpy()\n",
    "\n",
    "min_clusters = 4\n",
    "max_clusters = 50\n",
    "\n",
    "for n_c in range(min_clusters, max_clusters + 1):\n",
    "    kmeans = KMeans(n_clusters=n_c, n_init=10)\n",
    "    dinov2_clusters = kmeans.fit(dinov2_mean_embeddings)\n",
    "\n",
    "    # TODO: Compute cluster quality metrics\n",
    "    break\n"
   ]
  }
 ],
 "metadata": {
  "kernelspec": {
   "display_name": "photography-analysis-env",
   "language": "python",
   "name": "photography-analysis-env"
  },
  "language_info": {
   "codemirror_mode": {
    "name": "ipython",
    "version": 3
   },
   "file_extension": ".py",
   "mimetype": "text/x-python",
   "name": "python",
   "nbconvert_exporter": "python",
   "pygments_lexer": "ipython3",
   "version": "3.10.12"
  }
 },
 "nbformat": 4,
 "nbformat_minor": 5
}
