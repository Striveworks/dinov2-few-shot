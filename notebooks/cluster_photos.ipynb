{
 "cells": [
  {
   "cell_type": "markdown",
   "id": "25e15eb0-da64-4460-b368-0a9e17a40ee3",
   "metadata": {},
   "source": [
    "# Cluster Photos\n",
    "\n",
    "This notebook leverages learned features and out-of-the-box clustering techniques to cluster photos with the intent of finding a representative sample.\n",
    "\n",
    "## Instantiate Autoencoder\n",
    "\n",
    "Let's create our autoencoder and do preliminary work to process our images."
   ]
  },
  {
   "cell_type": "code",
   "execution_count": 12,
   "id": "f76bd7b5-aab5-4023-b861-1cc9b4b805b4",
   "metadata": {},
   "outputs": [],
   "source": [
    "from photo_encode.encoder import FaissIndexImageEncoder\n",
    "from transformers import AutoImageProcessor, AutoModel, ViTImageProcessor, ViTForImageClassification\n",
    "\n",
    "# First embedding model: dinov2\n",
    "processor_dino = AutoImageProcessor.from_pretrained('facebook/dinov2-large')\n",
    "dinov2_hf = AutoModel.from_pretrained('facebook/dinov2-large')\n",
    "dinov2 = FaissIndexImageEncoder(dinov2_hf, index_file_out=\"./data/test_photos_dinov2.db\").eval()\n",
    "\n",
    "# Second embedding model: ViT\n",
    "processor_vit = ViTImageProcessor.from_pretrained('google/vit-base-patch16-224')\n",
    "vit_hf = ViTForImageClassification.from_pretrained('google/vit-base-patch16-224')\n",
    "vit = FaissIndexImageEncoder(vit_hf, index_file_out=\"./data/test_photos_vit.db\").eval()"
   ]
  },
  {
   "cell_type": "markdown",
   "id": "fd62e234-929d-4ac3-acef-a537a1529bae",
   "metadata": {},
   "source": [
    "## Create the Index\n",
    "\n",
    "Run the embedding models over the imagery to create the vector database."
   ]
  },
  {
   "cell_type": "code",
   "execution_count": 14,
   "id": "8e6f93e0-92bb-45e0-ba28-a1992fe64914",
   "metadata": {},
   "outputs": [],
   "source": [
    "import torch\n",
    "\n",
    "from photo_encode.utils import image_batch_from_folder_generator\n",
    "from torchvision.transforms import Resize, Compose\n",
    "\n",
    "# Directory with photos\n",
    "photo_directory = \"./data/test_photos\"\n",
    "\n",
    "# Batch size\n",
    "batch_size = 8\n",
    "\n",
    "# Walk over the photo directory\n",
    "with torch.no_grad():\n",
    "    for x, files in image_batch_from_folder_generator(photo_directory, processor_dino, batch_size):\n",
    "        print(x, files)\n",
    "\n",
    "# Flush the embeddings to the database"
   ]
  }
 ],
 "metadata": {
  "kernelspec": {
   "display_name": "photography-analysis-env",
   "language": "python",
   "name": "photography-analysis-env"
  },
  "language_info": {
   "codemirror_mode": {
    "name": "ipython",
    "version": 3
   },
   "file_extension": ".py",
   "mimetype": "text/x-python",
   "name": "python",
   "nbconvert_exporter": "python",
   "pygments_lexer": "ipython3",
   "version": "3.10.12"
  }
 },
 "nbformat": 4,
 "nbformat_minor": 5
}
